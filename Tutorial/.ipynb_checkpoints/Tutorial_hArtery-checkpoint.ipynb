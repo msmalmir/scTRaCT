{
 "cells": [
  {
   "cell_type": "code",
   "execution_count": null,
   "id": "4f65d0dc",
   "metadata": {},
   "outputs": [],
   "source": [
    "pip install git+https://github.com/msmalmir/scTransID.git"
   ]
  },
  {
   "cell_type": "code",
   "execution_count": 1,
   "id": "bad9c038",
   "metadata": {},
   "outputs": [
    {
     "ename": "FileNotFoundError",
     "evalue": "[Errno 2] Unable to open file (unable to open file: name = './Datasets/hArtery/hArtery_train_adata.h5ad', errno = 2, error message = 'No such file or directory', flags = 0, o_flags = 0)",
     "output_type": "error",
     "traceback": [
      "\u001b[1;31m---------------------------------------------------------------------------\u001b[0m",
      "\u001b[1;31mFileNotFoundError\u001b[0m                         Traceback (most recent call last)",
      "Cell \u001b[1;32mIn[1], line 17\u001b[0m\n\u001b[0;32m     13\u001b[0m train_path \u001b[38;5;241m=\u001b[39m \u001b[38;5;124m'\u001b[39m\u001b[38;5;124m./Datasets/hArtery/hArtery_train_adata.h5ad\u001b[39m\u001b[38;5;124m'\u001b[39m\n\u001b[0;32m     14\u001b[0m test_path \u001b[38;5;241m=\u001b[39m \u001b[38;5;124m'\u001b[39m\u001b[38;5;124m./Datasets/hArtery/hArtery_test_adata.h5ad\u001b[39m\u001b[38;5;124m'\u001b[39m\n\u001b[1;32m---> 17\u001b[0m train_adata, query_adata \u001b[38;5;241m=\u001b[39m \u001b[43mload_data\u001b[49m\u001b[43m(\u001b[49m\u001b[43mtrain_path\u001b[49m\u001b[43m,\u001b[49m\u001b[43m \u001b[49m\u001b[43mtest_path\u001b[49m\u001b[43m)\u001b[49m\n\u001b[0;32m     18\u001b[0m X_train, y_train, X_query, le \u001b[38;5;241m=\u001b[39m preprocess_data(train_adata, query_adata)\n\u001b[0;32m     19\u001b[0m X_train_tensor, y_train_tensor, X_val_tensor, y_val_tensor \u001b[38;5;241m=\u001b[39m split_data(X_train, y_train)\n",
      "File \u001b[1;32m~\\AppData\\Roaming\\Python\\Python310\\site-packages\\scTransID\\data_utils.py:7\u001b[0m, in \u001b[0;36mload_data\u001b[1;34m(train_path, test_path)\u001b[0m\n\u001b[0;32m      6\u001b[0m \u001b[38;5;28;01mdef\u001b[39;00m \u001b[38;5;21mload_data\u001b[39m(train_path, test_path):\n\u001b[1;32m----> 7\u001b[0m     train_adata \u001b[38;5;241m=\u001b[39m \u001b[43msc\u001b[49m\u001b[38;5;241;43m.\u001b[39;49m\u001b[43mread_h5ad\u001b[49m\u001b[43m(\u001b[49m\u001b[43mtrain_path\u001b[49m\u001b[43m)\u001b[49m\n\u001b[0;32m      8\u001b[0m     query_adata \u001b[38;5;241m=\u001b[39m sc\u001b[38;5;241m.\u001b[39mread_h5ad(test_path)\n\u001b[0;32m      9\u001b[0m     \u001b[38;5;28;01mreturn\u001b[39;00m train_adata, query_adata\n",
      "File \u001b[1;32m~\\AppData\\Roaming\\Python\\Python310\\site-packages\\anndata\\_io\\h5ad.py:234\u001b[0m, in \u001b[0;36mread_h5ad\u001b[1;34m(filename, backed, as_sparse, as_sparse_fmt, chunk_size)\u001b[0m\n\u001b[0;32m    226\u001b[0m         \u001b[38;5;28;01mraise\u001b[39;00m \u001b[38;5;167;01mNotImplementedError\u001b[39;00m(\n\u001b[0;32m    227\u001b[0m             \u001b[38;5;124m\"\u001b[39m\u001b[38;5;124mCurrently only `X` and `raw/X` can be read as sparse.\u001b[39m\u001b[38;5;124m\"\u001b[39m\n\u001b[0;32m    228\u001b[0m         )\n\u001b[0;32m    230\u001b[0m rdasp \u001b[38;5;241m=\u001b[39m partial(\n\u001b[0;32m    231\u001b[0m     read_dense_as_sparse, sparse_format\u001b[38;5;241m=\u001b[39mas_sparse_fmt, axis_chunk\u001b[38;5;241m=\u001b[39mchunk_size\n\u001b[0;32m    232\u001b[0m )\n\u001b[1;32m--> 234\u001b[0m \u001b[38;5;28;01mwith\u001b[39;00m \u001b[43mh5py\u001b[49m\u001b[38;5;241;43m.\u001b[39;49m\u001b[43mFile\u001b[49m\u001b[43m(\u001b[49m\u001b[43mfilename\u001b[49m\u001b[43m,\u001b[49m\u001b[43m \u001b[49m\u001b[38;5;124;43m\"\u001b[39;49m\u001b[38;5;124;43mr\u001b[39;49m\u001b[38;5;124;43m\"\u001b[39;49m\u001b[43m)\u001b[49m \u001b[38;5;28;01mas\u001b[39;00m f:\n\u001b[0;32m    236\u001b[0m     \u001b[38;5;28;01mdef\u001b[39;00m \u001b[38;5;21mcallback\u001b[39m(func, elem_name: \u001b[38;5;28mstr\u001b[39m, elem, iospec):\n\u001b[0;32m    237\u001b[0m         \u001b[38;5;28;01mif\u001b[39;00m iospec\u001b[38;5;241m.\u001b[39mencoding_type \u001b[38;5;241m==\u001b[39m \u001b[38;5;124m\"\u001b[39m\u001b[38;5;124manndata\u001b[39m\u001b[38;5;124m\"\u001b[39m \u001b[38;5;129;01mor\u001b[39;00m elem_name\u001b[38;5;241m.\u001b[39mendswith(\u001b[38;5;124m\"\u001b[39m\u001b[38;5;124m/\u001b[39m\u001b[38;5;124m\"\u001b[39m):\n",
      "File \u001b[1;32mC:\\ProgramData\\anaconda3\\lib\\site-packages\\h5py\\_hl\\files.py:533\u001b[0m, in \u001b[0;36mFile.__init__\u001b[1;34m(self, name, mode, driver, libver, userblock_size, swmr, rdcc_nslots, rdcc_nbytes, rdcc_w0, track_order, fs_strategy, fs_persist, fs_threshold, fs_page_size, page_buf_size, min_meta_keep, min_raw_keep, locking, alignment_threshold, alignment_interval, **kwds)\u001b[0m\n\u001b[0;32m    525\u001b[0m     fapl \u001b[38;5;241m=\u001b[39m make_fapl(driver, libver, rdcc_nslots, rdcc_nbytes, rdcc_w0,\n\u001b[0;32m    526\u001b[0m                      locking, page_buf_size, min_meta_keep, min_raw_keep,\n\u001b[0;32m    527\u001b[0m                      alignment_threshold\u001b[38;5;241m=\u001b[39malignment_threshold,\n\u001b[0;32m    528\u001b[0m                      alignment_interval\u001b[38;5;241m=\u001b[39malignment_interval,\n\u001b[0;32m    529\u001b[0m                      \u001b[38;5;241m*\u001b[39m\u001b[38;5;241m*\u001b[39mkwds)\n\u001b[0;32m    530\u001b[0m     fcpl \u001b[38;5;241m=\u001b[39m make_fcpl(track_order\u001b[38;5;241m=\u001b[39mtrack_order, fs_strategy\u001b[38;5;241m=\u001b[39mfs_strategy,\n\u001b[0;32m    531\u001b[0m                      fs_persist\u001b[38;5;241m=\u001b[39mfs_persist, fs_threshold\u001b[38;5;241m=\u001b[39mfs_threshold,\n\u001b[0;32m    532\u001b[0m                      fs_page_size\u001b[38;5;241m=\u001b[39mfs_page_size)\n\u001b[1;32m--> 533\u001b[0m     fid \u001b[38;5;241m=\u001b[39m \u001b[43mmake_fid\u001b[49m\u001b[43m(\u001b[49m\u001b[43mname\u001b[49m\u001b[43m,\u001b[49m\u001b[43m \u001b[49m\u001b[43mmode\u001b[49m\u001b[43m,\u001b[49m\u001b[43m \u001b[49m\u001b[43muserblock_size\u001b[49m\u001b[43m,\u001b[49m\u001b[43m \u001b[49m\u001b[43mfapl\u001b[49m\u001b[43m,\u001b[49m\u001b[43m \u001b[49m\u001b[43mfcpl\u001b[49m\u001b[43m,\u001b[49m\u001b[43m \u001b[49m\u001b[43mswmr\u001b[49m\u001b[38;5;241;43m=\u001b[39;49m\u001b[43mswmr\u001b[49m\u001b[43m)\u001b[49m\n\u001b[0;32m    535\u001b[0m \u001b[38;5;28;01mif\u001b[39;00m \u001b[38;5;28misinstance\u001b[39m(libver, \u001b[38;5;28mtuple\u001b[39m):\n\u001b[0;32m    536\u001b[0m     \u001b[38;5;28mself\u001b[39m\u001b[38;5;241m.\u001b[39m_libver \u001b[38;5;241m=\u001b[39m libver\n",
      "File \u001b[1;32mC:\\ProgramData\\anaconda3\\lib\\site-packages\\h5py\\_hl\\files.py:226\u001b[0m, in \u001b[0;36mmake_fid\u001b[1;34m(name, mode, userblock_size, fapl, fcpl, swmr)\u001b[0m\n\u001b[0;32m    224\u001b[0m     \u001b[38;5;28;01mif\u001b[39;00m swmr \u001b[38;5;129;01mand\u001b[39;00m swmr_support:\n\u001b[0;32m    225\u001b[0m         flags \u001b[38;5;241m|\u001b[39m\u001b[38;5;241m=\u001b[39m h5f\u001b[38;5;241m.\u001b[39mACC_SWMR_READ\n\u001b[1;32m--> 226\u001b[0m     fid \u001b[38;5;241m=\u001b[39m \u001b[43mh5f\u001b[49m\u001b[38;5;241;43m.\u001b[39;49m\u001b[43mopen\u001b[49m\u001b[43m(\u001b[49m\u001b[43mname\u001b[49m\u001b[43m,\u001b[49m\u001b[43m \u001b[49m\u001b[43mflags\u001b[49m\u001b[43m,\u001b[49m\u001b[43m \u001b[49m\u001b[43mfapl\u001b[49m\u001b[38;5;241;43m=\u001b[39;49m\u001b[43mfapl\u001b[49m\u001b[43m)\u001b[49m\n\u001b[0;32m    227\u001b[0m \u001b[38;5;28;01melif\u001b[39;00m mode \u001b[38;5;241m==\u001b[39m \u001b[38;5;124m'\u001b[39m\u001b[38;5;124mr+\u001b[39m\u001b[38;5;124m'\u001b[39m:\n\u001b[0;32m    228\u001b[0m     fid \u001b[38;5;241m=\u001b[39m h5f\u001b[38;5;241m.\u001b[39mopen(name, h5f\u001b[38;5;241m.\u001b[39mACC_RDWR, fapl\u001b[38;5;241m=\u001b[39mfapl)\n",
      "File \u001b[1;32mh5py\\_objects.pyx:54\u001b[0m, in \u001b[0;36mh5py._objects.with_phil.wrapper\u001b[1;34m()\u001b[0m\n",
      "File \u001b[1;32mh5py\\_objects.pyx:55\u001b[0m, in \u001b[0;36mh5py._objects.with_phil.wrapper\u001b[1;34m()\u001b[0m\n",
      "File \u001b[1;32mh5py\\h5f.pyx:106\u001b[0m, in \u001b[0;36mh5py.h5f.open\u001b[1;34m()\u001b[0m\n",
      "\u001b[1;31mFileNotFoundError\u001b[0m: [Errno 2] Unable to open file (unable to open file: name = './Datasets/hArtery/hArtery_train_adata.h5ad', errno = 2, error message = 'No such file or directory', flags = 0, o_flags = 0)"
     ]
    }
   ],
   "source": [
    "import scTransID\n",
    "import torch\n",
    "from torch.utils.data import DataLoader, TensorDataset\n",
    "import torch.nn as nn\n",
    "import torch.optim as optim\n",
    "from scTransID.data_utils import load_data, preprocess_data, split_data\n",
    "from scTransID.model import TransformerModel\n",
    "from scTransID.train import train_model\n",
    "from scTransID.evaluation import evaluate_on_query\n",
    "import time\n",
    "\n",
    "# Paths to sample data (Update these paths as needed)\n",
    "train_path = './Datasets/hArtery/hArtery_train_adata.h5ad'\n",
    "test_path = './Datasets/hArtery/hArtery_test_adata.h5ad'\n",
    "\n",
    "\n",
    "train_adata, query_adata = load_data(train_path, test_path)\n",
    "X_train, y_train, X_query, le = preprocess_data(train_adata, query_adata)\n",
    "X_train_tensor, y_train_tensor, X_val_tensor, y_val_tensor = split_data(X_train, y_train)\n",
    "\n",
    "# Initialize model, loss function, and optimizer\n",
    "num_genes = X_train_tensor.shape[1]\n",
    "num_classes = len(le.classes_)\n",
    "model = TransformerModel(num_genes=num_genes, num_classes=num_classes)\n",
    "criterion = nn.CrossEntropyLoss()\n",
    "optimizer = optim.Adam(model.parameters(), lr=0.0001)\n",
    "\n",
    "# Load data into DataLoader\n",
    "train_dataset = TensorDataset(X_train_tensor, y_train_tensor)\n",
    "val_dataset = TensorDataset(X_val_tensor, y_val_tensor)\n",
    "train_loader = DataLoader(train_dataset, batch_size=32, shuffle=True)\n",
    "val_loader = DataLoader(val_dataset, batch_size=32)\n",
    "\n",
    "# Train the model\n",
    "train_model(model, train_loader, val_loader, criterion, optimizer, num_epochs=2)\n",
    "\n",
    "\n",
    "\n",
    "# Convert query dataset and true labels to PyTorch tensors\n",
    "X_query_tensor = torch.tensor(X_query, dtype=torch.float32)\n",
    "y_query = query_adata.obs['celltype'].values  # Ensure true labels are available\n",
    "y_query_encoded = le.transform(y_query)  # Transform true labels to encoded form\n",
    "\n",
    "# Evaluate the model on the query dataset\n",
    "predicted_celltypes, accuracy, f1 = evaluate_on_query(model, X_query_tensor, y_query_encoded, le)\n",
    "\n",
    "# Display the results\n",
    "print(\"Predicted cell types for the query dataset:\")\n",
    "print(predicted_celltypes)\n",
    "print(f\"Accuracy on query dataset: {accuracy:.2f}\")\n",
    "print(f\"F1 score on query dataset: {f1:.2f}\")"
   ]
  },
  {
   "cell_type": "code",
   "execution_count": null,
   "id": "c6ad8b25",
   "metadata": {},
   "outputs": [],
   "source": [
    "# Add predicted cell types to query_adata\n",
    "query_adata.obs['predicted_celltypes'] = predicted_celltypes\n",
    "\n",
    "# UMAP visualization for true vs predicted labels\n",
    "# First, run UMAP on the query dataset\n",
    "sc.pp.neighbors(query_adata)  # Compute neighbors\n",
    "sc.pp.pca(query_adata, n_comps=50)  # n_comps sets the number of principal components\n",
    "sc.tl.umap(query_adata)  # Run UMAP\n"
   ]
  },
  {
   "cell_type": "code",
   "execution_count": null,
   "id": "576da0d3",
   "metadata": {},
   "outputs": [],
   "source": [
    "# Create subplots (1 row, 2 columns)\n",
    "fig, ax = plt.subplots(1, 2, figsize=(12, 5))\n",
    "\n",
    "# Plot UMAP of true labels\n",
    "sc.pl.umap(query_adata, color='celltype', title='True Cell Types', show=False, ax=ax[0])\n",
    "\n",
    "# Plot UMAP of predicted labels\n",
    "sc.pl.umap(query_adata, color='predicted_celltypes', title='Predicted Cell Types', show=False, ax=ax[1])\n",
    "\n",
    "# Display the plots side by side\n",
    "plt.tight_layout()\n",
    "#plt.savefig('umap1.png')  # You can change the path and file name\n",
    "plt.show()"
   ]
  },
  {
   "cell_type": "code",
   "execution_count": null,
   "id": "3c9e352b",
   "metadata": {},
   "outputs": [],
   "source": [
    "# Ensure that both columns contain only strings (convert NaNs to a string as well if they exist)\n",
    "query_adata.obs['celltype'] = query_adata.obs['celltype'].astype(str)\n",
    "query_adata.obs['predicted_celltypes'] = query_adata.obs['predicted_celltypes'].astype(str)\n",
    "\n",
    "# Convert columns to categorical\n",
    "query_adata.obs['celltype'] = query_adata.obs['celltype'].astype('category')\n",
    "query_adata.obs['predicted_celltypes'] = query_adata.obs['predicted_celltypes'].astype('category')\n",
    "\n",
    "# Ensure we have the full set of cell types (even if missing in true labels)\n",
    "all_cell_types = np.union1d(query_adata.obs['celltype'].unique(), query_adata.obs['predicted_celltypes'].unique())\n",
    "\n",
    "# Update 'Celltype2' and 'predicted_cell_types' to include all categories\n",
    "query_adata.obs['celltype'] = query_adata.obs['celltype'].cat.add_categories([ctype for ctype in all_cell_types if ctype not in query_adata.obs['celltype'].cat.categories])\n",
    "query_adata.obs['predicted_celltypes'] = query_adata.obs['predicted_celltypes'].cat.add_categories([ctype for ctype in all_cell_types if ctype not in query_adata.obs['predicted_celltypes'].cat.categories])\n",
    "\n",
    "# Create confusion matrix\n",
    "conf_matrix = confusion_matrix(query_adata.obs['celltype'], query_adata.obs['predicted_celltypes'], labels=all_cell_types)\n",
    "\n",
    "# Normalize the confusion matrix by row (true labels)\n",
    "conf_matrix_normalized = conf_matrix.astype('float') / conf_matrix.sum(axis=1)[:, np.newaxis]\n",
    "\n",
    "# Round the normalized confusion matrix\n",
    "conf_matrix_normalized_rounded = np.round(conf_matrix_normalized, 2)\n",
    "\n",
    "# Plot rounded, normalized confusion matrix\n",
    "plt.figure(figsize=(10, 8))\n",
    "sns.heatmap(conf_matrix_normalized_rounded, annot=True, cmap=\"Blues\", xticklabels=all_cell_types, yticklabels=all_cell_types, fmt='.2f')\n",
    "plt.title('Rounded Normalized Confusion Matrix')\n",
    "plt.xlabel('Predicted Labels')\n",
    "plt.ylabel('True Labels')\n",
    "# Save the plot as a PNG file\n",
    "#plt.savefig('confusion_matrix.png')  # You can change the path and file name\n",
    "plt.show()\n"
   ]
  }
 ],
 "metadata": {
  "kernelspec": {
   "display_name": "Python 3 (ipykernel)",
   "language": "python",
   "name": "python3"
  },
  "language_info": {
   "codemirror_mode": {
    "name": "ipython",
    "version": 3
   },
   "file_extension": ".py",
   "mimetype": "text/x-python",
   "name": "python",
   "nbconvert_exporter": "python",
   "pygments_lexer": "ipython3",
   "version": "3.10.9"
  }
 },
 "nbformat": 4,
 "nbformat_minor": 5
}
